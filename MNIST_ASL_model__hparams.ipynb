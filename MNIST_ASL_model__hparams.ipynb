{
  "nbformat": 4,
  "nbformat_minor": 0,
  "metadata": {
    "accelerator": "GPU",
    "colab": {
      "name": "ASL_model_training_with_hparams.ipynb",
      "provenance": []
    },
    "kernelspec": {
      "display_name": "Python 3",
      "name": "python3"
    }
  },
  "cells": [
    {
      "cell_type": "code",
      "metadata": {
        "id": "CiGX0XgBsBSg"
      },
      "source": [
        "from google.colab import drive\r\n",
        "import pandas as pd"
      ],
      "execution_count": 4,
      "outputs": []
    },
    {
      "cell_type": "markdown",
      "metadata": {
        "id": "x7FYSp5kaFqY"
      },
      "source": [
        "# Getting the data from gdrive"
      ]
    },
    {
      "cell_type": "code",
      "metadata": {
        "colab": {
          "base_uri": "https://localhost:8080/"
        },
        "id": "yMAnPcnTsCM8",
        "outputId": "91963d34-8581-4444-bb5e-2e070fb131b0"
      },
      "source": [
        "drive.mount(\"/content/drive\")"
      ],
      "execution_count": 5,
      "outputs": [
        {
          "output_type": "stream",
          "text": [
            "Drive already mounted at /content/drive; to attempt to forcibly remount, call drive.mount(\"/content/drive\", force_remount=True).\n"
          ],
          "name": "stdout"
        }
      ]
    },
    {
      "cell_type": "code",
      "metadata": {
        "colab": {
          "base_uri": "https://localhost:8080/"
        },
        "id": "5TMHoXcOsFtH",
        "outputId": "cf0a0daf-42a5-450c-e088-231e8c184ad5"
      },
      "source": [
        "!unzip \"/content/drive/MyDrive/ASL Dataset/archive (2).zip\" -d \"/content\""
      ],
      "execution_count": 6,
      "outputs": [
        {
          "output_type": "stream",
          "text": [
            "Archive:  /content/drive/MyDrive/ASL Dataset/archive (2).zip\n",
            "  inflating: /content/amer_sign2.png  \n",
            "  inflating: /content/amer_sign3.png  \n",
            "  inflating: /content/american_sign_language.PNG  \n",
            "  inflating: /content/sign_mnist_test.csv  \n",
            "  inflating: /content/sign_mnist_test/sign_mnist_test.csv  \n",
            "  inflating: /content/sign_mnist_train.csv  \n",
            "  inflating: /content/sign_mnist_train/sign_mnist_train.csv  \n"
          ],
          "name": "stdout"
        }
      ]
    },
    {
      "cell_type": "code",
      "metadata": {
        "id": "PMB8ogoqsUfF"
      },
      "source": [
        "train_data=pd.read_csv(\"/content/sign_mnist_train.csv\")"
      ],
      "execution_count": 7,
      "outputs": []
    },
    {
      "cell_type": "code",
      "metadata": {
        "colab": {
          "base_uri": "https://localhost:8080/"
        },
        "id": "5GOX9UKQsY5K",
        "outputId": "7fbc05cf-5bc4-4644-fa2b-380d491e6d7e"
      },
      "source": [
        "train_data.shape"
      ],
      "execution_count": 8,
      "outputs": [
        {
          "output_type": "execute_result",
          "data": {
            "text/plain": [
              "(27455, 785)"
            ]
          },
          "metadata": {
            "tags": []
          },
          "execution_count": 8
        }
      ]
    },
    {
      "cell_type": "code",
      "metadata": {
        "colab": {
          "base_uri": "https://localhost:8080/",
          "height": 188
        },
        "id": "ZhuAodTAscpk",
        "outputId": "1350966f-a127-44b7-e498-b48ebae3026b"
      },
      "source": [
        "train_data.head(3)"
      ],
      "execution_count": 9,
      "outputs": [
        {
          "output_type": "execute_result",
          "data": {
            "text/html": [
              "<div>\n",
              "<style scoped>\n",
              "    .dataframe tbody tr th:only-of-type {\n",
              "        vertical-align: middle;\n",
              "    }\n",
              "\n",
              "    .dataframe tbody tr th {\n",
              "        vertical-align: top;\n",
              "    }\n",
              "\n",
              "    .dataframe thead th {\n",
              "        text-align: right;\n",
              "    }\n",
              "</style>\n",
              "<table border=\"1\" class=\"dataframe\">\n",
              "  <thead>\n",
              "    <tr style=\"text-align: right;\">\n",
              "      <th></th>\n",
              "      <th>label</th>\n",
              "      <th>pixel1</th>\n",
              "      <th>pixel2</th>\n",
              "      <th>pixel3</th>\n",
              "      <th>pixel4</th>\n",
              "      <th>pixel5</th>\n",
              "      <th>pixel6</th>\n",
              "      <th>pixel7</th>\n",
              "      <th>pixel8</th>\n",
              "      <th>pixel9</th>\n",
              "      <th>pixel10</th>\n",
              "      <th>pixel11</th>\n",
              "      <th>pixel12</th>\n",
              "      <th>pixel13</th>\n",
              "      <th>pixel14</th>\n",
              "      <th>pixel15</th>\n",
              "      <th>pixel16</th>\n",
              "      <th>pixel17</th>\n",
              "      <th>pixel18</th>\n",
              "      <th>pixel19</th>\n",
              "      <th>pixel20</th>\n",
              "      <th>pixel21</th>\n",
              "      <th>pixel22</th>\n",
              "      <th>pixel23</th>\n",
              "      <th>pixel24</th>\n",
              "      <th>pixel25</th>\n",
              "      <th>pixel26</th>\n",
              "      <th>pixel27</th>\n",
              "      <th>pixel28</th>\n",
              "      <th>pixel29</th>\n",
              "      <th>pixel30</th>\n",
              "      <th>pixel31</th>\n",
              "      <th>pixel32</th>\n",
              "      <th>pixel33</th>\n",
              "      <th>pixel34</th>\n",
              "      <th>pixel35</th>\n",
              "      <th>pixel36</th>\n",
              "      <th>pixel37</th>\n",
              "      <th>pixel38</th>\n",
              "      <th>pixel39</th>\n",
              "      <th>...</th>\n",
              "      <th>pixel745</th>\n",
              "      <th>pixel746</th>\n",
              "      <th>pixel747</th>\n",
              "      <th>pixel748</th>\n",
              "      <th>pixel749</th>\n",
              "      <th>pixel750</th>\n",
              "      <th>pixel751</th>\n",
              "      <th>pixel752</th>\n",
              "      <th>pixel753</th>\n",
              "      <th>pixel754</th>\n",
              "      <th>pixel755</th>\n",
              "      <th>pixel756</th>\n",
              "      <th>pixel757</th>\n",
              "      <th>pixel758</th>\n",
              "      <th>pixel759</th>\n",
              "      <th>pixel760</th>\n",
              "      <th>pixel761</th>\n",
              "      <th>pixel762</th>\n",
              "      <th>pixel763</th>\n",
              "      <th>pixel764</th>\n",
              "      <th>pixel765</th>\n",
              "      <th>pixel766</th>\n",
              "      <th>pixel767</th>\n",
              "      <th>pixel768</th>\n",
              "      <th>pixel769</th>\n",
              "      <th>pixel770</th>\n",
              "      <th>pixel771</th>\n",
              "      <th>pixel772</th>\n",
              "      <th>pixel773</th>\n",
              "      <th>pixel774</th>\n",
              "      <th>pixel775</th>\n",
              "      <th>pixel776</th>\n",
              "      <th>pixel777</th>\n",
              "      <th>pixel778</th>\n",
              "      <th>pixel779</th>\n",
              "      <th>pixel780</th>\n",
              "      <th>pixel781</th>\n",
              "      <th>pixel782</th>\n",
              "      <th>pixel783</th>\n",
              "      <th>pixel784</th>\n",
              "    </tr>\n",
              "  </thead>\n",
              "  <tbody>\n",
              "    <tr>\n",
              "      <th>0</th>\n",
              "      <td>3</td>\n",
              "      <td>107</td>\n",
              "      <td>118</td>\n",
              "      <td>127</td>\n",
              "      <td>134</td>\n",
              "      <td>139</td>\n",
              "      <td>143</td>\n",
              "      <td>146</td>\n",
              "      <td>150</td>\n",
              "      <td>153</td>\n",
              "      <td>156</td>\n",
              "      <td>158</td>\n",
              "      <td>160</td>\n",
              "      <td>163</td>\n",
              "      <td>165</td>\n",
              "      <td>159</td>\n",
              "      <td>166</td>\n",
              "      <td>168</td>\n",
              "      <td>170</td>\n",
              "      <td>170</td>\n",
              "      <td>171</td>\n",
              "      <td>171</td>\n",
              "      <td>171</td>\n",
              "      <td>172</td>\n",
              "      <td>171</td>\n",
              "      <td>171</td>\n",
              "      <td>170</td>\n",
              "      <td>170</td>\n",
              "      <td>169</td>\n",
              "      <td>111</td>\n",
              "      <td>121</td>\n",
              "      <td>129</td>\n",
              "      <td>135</td>\n",
              "      <td>141</td>\n",
              "      <td>144</td>\n",
              "      <td>148</td>\n",
              "      <td>151</td>\n",
              "      <td>154</td>\n",
              "      <td>157</td>\n",
              "      <td>160</td>\n",
              "      <td>...</td>\n",
              "      <td>205</td>\n",
              "      <td>206</td>\n",
              "      <td>206</td>\n",
              "      <td>207</td>\n",
              "      <td>207</td>\n",
              "      <td>206</td>\n",
              "      <td>206</td>\n",
              "      <td>204</td>\n",
              "      <td>205</td>\n",
              "      <td>204</td>\n",
              "      <td>203</td>\n",
              "      <td>202</td>\n",
              "      <td>142</td>\n",
              "      <td>151</td>\n",
              "      <td>160</td>\n",
              "      <td>172</td>\n",
              "      <td>196</td>\n",
              "      <td>188</td>\n",
              "      <td>188</td>\n",
              "      <td>190</td>\n",
              "      <td>135</td>\n",
              "      <td>96</td>\n",
              "      <td>86</td>\n",
              "      <td>77</td>\n",
              "      <td>77</td>\n",
              "      <td>79</td>\n",
              "      <td>176</td>\n",
              "      <td>205</td>\n",
              "      <td>207</td>\n",
              "      <td>207</td>\n",
              "      <td>207</td>\n",
              "      <td>207</td>\n",
              "      <td>207</td>\n",
              "      <td>207</td>\n",
              "      <td>206</td>\n",
              "      <td>206</td>\n",
              "      <td>206</td>\n",
              "      <td>204</td>\n",
              "      <td>203</td>\n",
              "      <td>202</td>\n",
              "    </tr>\n",
              "    <tr>\n",
              "      <th>1</th>\n",
              "      <td>6</td>\n",
              "      <td>155</td>\n",
              "      <td>157</td>\n",
              "      <td>156</td>\n",
              "      <td>156</td>\n",
              "      <td>156</td>\n",
              "      <td>157</td>\n",
              "      <td>156</td>\n",
              "      <td>158</td>\n",
              "      <td>158</td>\n",
              "      <td>157</td>\n",
              "      <td>158</td>\n",
              "      <td>156</td>\n",
              "      <td>154</td>\n",
              "      <td>154</td>\n",
              "      <td>153</td>\n",
              "      <td>152</td>\n",
              "      <td>151</td>\n",
              "      <td>149</td>\n",
              "      <td>149</td>\n",
              "      <td>148</td>\n",
              "      <td>147</td>\n",
              "      <td>146</td>\n",
              "      <td>144</td>\n",
              "      <td>142</td>\n",
              "      <td>143</td>\n",
              "      <td>138</td>\n",
              "      <td>92</td>\n",
              "      <td>108</td>\n",
              "      <td>158</td>\n",
              "      <td>159</td>\n",
              "      <td>159</td>\n",
              "      <td>159</td>\n",
              "      <td>160</td>\n",
              "      <td>160</td>\n",
              "      <td>160</td>\n",
              "      <td>160</td>\n",
              "      <td>160</td>\n",
              "      <td>160</td>\n",
              "      <td>160</td>\n",
              "      <td>...</td>\n",
              "      <td>100</td>\n",
              "      <td>78</td>\n",
              "      <td>120</td>\n",
              "      <td>157</td>\n",
              "      <td>168</td>\n",
              "      <td>107</td>\n",
              "      <td>99</td>\n",
              "      <td>121</td>\n",
              "      <td>133</td>\n",
              "      <td>97</td>\n",
              "      <td>95</td>\n",
              "      <td>120</td>\n",
              "      <td>135</td>\n",
              "      <td>116</td>\n",
              "      <td>95</td>\n",
              "      <td>79</td>\n",
              "      <td>69</td>\n",
              "      <td>86</td>\n",
              "      <td>139</td>\n",
              "      <td>173</td>\n",
              "      <td>200</td>\n",
              "      <td>185</td>\n",
              "      <td>175</td>\n",
              "      <td>198</td>\n",
              "      <td>124</td>\n",
              "      <td>118</td>\n",
              "      <td>94</td>\n",
              "      <td>140</td>\n",
              "      <td>133</td>\n",
              "      <td>84</td>\n",
              "      <td>69</td>\n",
              "      <td>149</td>\n",
              "      <td>128</td>\n",
              "      <td>87</td>\n",
              "      <td>94</td>\n",
              "      <td>163</td>\n",
              "      <td>175</td>\n",
              "      <td>103</td>\n",
              "      <td>135</td>\n",
              "      <td>149</td>\n",
              "    </tr>\n",
              "    <tr>\n",
              "      <th>2</th>\n",
              "      <td>2</td>\n",
              "      <td>187</td>\n",
              "      <td>188</td>\n",
              "      <td>188</td>\n",
              "      <td>187</td>\n",
              "      <td>187</td>\n",
              "      <td>186</td>\n",
              "      <td>187</td>\n",
              "      <td>188</td>\n",
              "      <td>187</td>\n",
              "      <td>186</td>\n",
              "      <td>185</td>\n",
              "      <td>185</td>\n",
              "      <td>185</td>\n",
              "      <td>184</td>\n",
              "      <td>184</td>\n",
              "      <td>184</td>\n",
              "      <td>181</td>\n",
              "      <td>181</td>\n",
              "      <td>179</td>\n",
              "      <td>179</td>\n",
              "      <td>179</td>\n",
              "      <td>178</td>\n",
              "      <td>178</td>\n",
              "      <td>109</td>\n",
              "      <td>52</td>\n",
              "      <td>66</td>\n",
              "      <td>77</td>\n",
              "      <td>83</td>\n",
              "      <td>188</td>\n",
              "      <td>189</td>\n",
              "      <td>189</td>\n",
              "      <td>188</td>\n",
              "      <td>188</td>\n",
              "      <td>189</td>\n",
              "      <td>188</td>\n",
              "      <td>188</td>\n",
              "      <td>188</td>\n",
              "      <td>188</td>\n",
              "      <td>187</td>\n",
              "      <td>...</td>\n",
              "      <td>203</td>\n",
              "      <td>204</td>\n",
              "      <td>203</td>\n",
              "      <td>201</td>\n",
              "      <td>200</td>\n",
              "      <td>200</td>\n",
              "      <td>199</td>\n",
              "      <td>198</td>\n",
              "      <td>196</td>\n",
              "      <td>195</td>\n",
              "      <td>194</td>\n",
              "      <td>193</td>\n",
              "      <td>198</td>\n",
              "      <td>166</td>\n",
              "      <td>132</td>\n",
              "      <td>114</td>\n",
              "      <td>89</td>\n",
              "      <td>74</td>\n",
              "      <td>79</td>\n",
              "      <td>77</td>\n",
              "      <td>74</td>\n",
              "      <td>78</td>\n",
              "      <td>132</td>\n",
              "      <td>188</td>\n",
              "      <td>210</td>\n",
              "      <td>209</td>\n",
              "      <td>206</td>\n",
              "      <td>205</td>\n",
              "      <td>204</td>\n",
              "      <td>203</td>\n",
              "      <td>202</td>\n",
              "      <td>201</td>\n",
              "      <td>200</td>\n",
              "      <td>199</td>\n",
              "      <td>198</td>\n",
              "      <td>199</td>\n",
              "      <td>198</td>\n",
              "      <td>195</td>\n",
              "      <td>194</td>\n",
              "      <td>195</td>\n",
              "    </tr>\n",
              "  </tbody>\n",
              "</table>\n",
              "<p>3 rows × 785 columns</p>\n",
              "</div>"
            ],
            "text/plain": [
              "   label  pixel1  pixel2  pixel3  ...  pixel781  pixel782  pixel783  pixel784\n",
              "0      3     107     118     127  ...       206       204       203       202\n",
              "1      6     155     157     156  ...       175       103       135       149\n",
              "2      2     187     188     188  ...       198       195       194       195\n",
              "\n",
              "[3 rows x 785 columns]"
            ]
          },
          "metadata": {
            "tags": []
          },
          "execution_count": 9
        }
      ]
    },
    {
      "cell_type": "code",
      "metadata": {
        "id": "T-u3xvEYshCN"
      },
      "source": [
        "test_data=pd.read_csv(\"/content/sign_mnist_test.csv\")"
      ],
      "execution_count": 10,
      "outputs": []
    },
    {
      "cell_type": "code",
      "metadata": {
        "colab": {
          "base_uri": "https://localhost:8080/"
        },
        "id": "8cnCLOw6JYos",
        "outputId": "d26f166f-8bc7-45b2-b44c-2f833ff3aa01"
      },
      "source": [
        "test_data.shape"
      ],
      "execution_count": 11,
      "outputs": [
        {
          "output_type": "execute_result",
          "data": {
            "text/plain": [
              "(7172, 785)"
            ]
          },
          "metadata": {
            "tags": []
          },
          "execution_count": 11
        }
      ]
    },
    {
      "cell_type": "code",
      "metadata": {
        "id": "K-uiokeoOx0x",
        "colab": {
          "base_uri": "https://localhost:8080/",
          "height": 188
        },
        "outputId": "19825604-9d34-4216-8f15-bee8a5e79bbe"
      },
      "source": [
        "test_data.head(3)"
      ],
      "execution_count": 12,
      "outputs": [
        {
          "output_type": "execute_result",
          "data": {
            "text/html": [
              "<div>\n",
              "<style scoped>\n",
              "    .dataframe tbody tr th:only-of-type {\n",
              "        vertical-align: middle;\n",
              "    }\n",
              "\n",
              "    .dataframe tbody tr th {\n",
              "        vertical-align: top;\n",
              "    }\n",
              "\n",
              "    .dataframe thead th {\n",
              "        text-align: right;\n",
              "    }\n",
              "</style>\n",
              "<table border=\"1\" class=\"dataframe\">\n",
              "  <thead>\n",
              "    <tr style=\"text-align: right;\">\n",
              "      <th></th>\n",
              "      <th>label</th>\n",
              "      <th>pixel1</th>\n",
              "      <th>pixel2</th>\n",
              "      <th>pixel3</th>\n",
              "      <th>pixel4</th>\n",
              "      <th>pixel5</th>\n",
              "      <th>pixel6</th>\n",
              "      <th>pixel7</th>\n",
              "      <th>pixel8</th>\n",
              "      <th>pixel9</th>\n",
              "      <th>pixel10</th>\n",
              "      <th>pixel11</th>\n",
              "      <th>pixel12</th>\n",
              "      <th>pixel13</th>\n",
              "      <th>pixel14</th>\n",
              "      <th>pixel15</th>\n",
              "      <th>pixel16</th>\n",
              "      <th>pixel17</th>\n",
              "      <th>pixel18</th>\n",
              "      <th>pixel19</th>\n",
              "      <th>pixel20</th>\n",
              "      <th>pixel21</th>\n",
              "      <th>pixel22</th>\n",
              "      <th>pixel23</th>\n",
              "      <th>pixel24</th>\n",
              "      <th>pixel25</th>\n",
              "      <th>pixel26</th>\n",
              "      <th>pixel27</th>\n",
              "      <th>pixel28</th>\n",
              "      <th>pixel29</th>\n",
              "      <th>pixel30</th>\n",
              "      <th>pixel31</th>\n",
              "      <th>pixel32</th>\n",
              "      <th>pixel33</th>\n",
              "      <th>pixel34</th>\n",
              "      <th>pixel35</th>\n",
              "      <th>pixel36</th>\n",
              "      <th>pixel37</th>\n",
              "      <th>pixel38</th>\n",
              "      <th>pixel39</th>\n",
              "      <th>...</th>\n",
              "      <th>pixel745</th>\n",
              "      <th>pixel746</th>\n",
              "      <th>pixel747</th>\n",
              "      <th>pixel748</th>\n",
              "      <th>pixel749</th>\n",
              "      <th>pixel750</th>\n",
              "      <th>pixel751</th>\n",
              "      <th>pixel752</th>\n",
              "      <th>pixel753</th>\n",
              "      <th>pixel754</th>\n",
              "      <th>pixel755</th>\n",
              "      <th>pixel756</th>\n",
              "      <th>pixel757</th>\n",
              "      <th>pixel758</th>\n",
              "      <th>pixel759</th>\n",
              "      <th>pixel760</th>\n",
              "      <th>pixel761</th>\n",
              "      <th>pixel762</th>\n",
              "      <th>pixel763</th>\n",
              "      <th>pixel764</th>\n",
              "      <th>pixel765</th>\n",
              "      <th>pixel766</th>\n",
              "      <th>pixel767</th>\n",
              "      <th>pixel768</th>\n",
              "      <th>pixel769</th>\n",
              "      <th>pixel770</th>\n",
              "      <th>pixel771</th>\n",
              "      <th>pixel772</th>\n",
              "      <th>pixel773</th>\n",
              "      <th>pixel774</th>\n",
              "      <th>pixel775</th>\n",
              "      <th>pixel776</th>\n",
              "      <th>pixel777</th>\n",
              "      <th>pixel778</th>\n",
              "      <th>pixel779</th>\n",
              "      <th>pixel780</th>\n",
              "      <th>pixel781</th>\n",
              "      <th>pixel782</th>\n",
              "      <th>pixel783</th>\n",
              "      <th>pixel784</th>\n",
              "    </tr>\n",
              "  </thead>\n",
              "  <tbody>\n",
              "    <tr>\n",
              "      <th>0</th>\n",
              "      <td>6</td>\n",
              "      <td>149</td>\n",
              "      <td>149</td>\n",
              "      <td>150</td>\n",
              "      <td>150</td>\n",
              "      <td>150</td>\n",
              "      <td>151</td>\n",
              "      <td>151</td>\n",
              "      <td>150</td>\n",
              "      <td>151</td>\n",
              "      <td>152</td>\n",
              "      <td>152</td>\n",
              "      <td>152</td>\n",
              "      <td>152</td>\n",
              "      <td>152</td>\n",
              "      <td>153</td>\n",
              "      <td>153</td>\n",
              "      <td>151</td>\n",
              "      <td>152</td>\n",
              "      <td>152</td>\n",
              "      <td>153</td>\n",
              "      <td>152</td>\n",
              "      <td>152</td>\n",
              "      <td>151</td>\n",
              "      <td>151</td>\n",
              "      <td>150</td>\n",
              "      <td>150</td>\n",
              "      <td>150</td>\n",
              "      <td>149</td>\n",
              "      <td>150</td>\n",
              "      <td>150</td>\n",
              "      <td>150</td>\n",
              "      <td>152</td>\n",
              "      <td>152</td>\n",
              "      <td>151</td>\n",
              "      <td>152</td>\n",
              "      <td>152</td>\n",
              "      <td>152</td>\n",
              "      <td>152</td>\n",
              "      <td>152</td>\n",
              "      <td>...</td>\n",
              "      <td>131</td>\n",
              "      <td>134</td>\n",
              "      <td>144</td>\n",
              "      <td>147</td>\n",
              "      <td>125</td>\n",
              "      <td>87</td>\n",
              "      <td>87</td>\n",
              "      <td>103</td>\n",
              "      <td>107</td>\n",
              "      <td>110</td>\n",
              "      <td>116</td>\n",
              "      <td>113</td>\n",
              "      <td>75</td>\n",
              "      <td>74</td>\n",
              "      <td>74</td>\n",
              "      <td>74</td>\n",
              "      <td>76</td>\n",
              "      <td>74</td>\n",
              "      <td>82</td>\n",
              "      <td>134</td>\n",
              "      <td>168</td>\n",
              "      <td>155</td>\n",
              "      <td>146</td>\n",
              "      <td>137</td>\n",
              "      <td>145</td>\n",
              "      <td>146</td>\n",
              "      <td>149</td>\n",
              "      <td>135</td>\n",
              "      <td>124</td>\n",
              "      <td>125</td>\n",
              "      <td>138</td>\n",
              "      <td>148</td>\n",
              "      <td>127</td>\n",
              "      <td>89</td>\n",
              "      <td>82</td>\n",
              "      <td>96</td>\n",
              "      <td>106</td>\n",
              "      <td>112</td>\n",
              "      <td>120</td>\n",
              "      <td>107</td>\n",
              "    </tr>\n",
              "    <tr>\n",
              "      <th>1</th>\n",
              "      <td>5</td>\n",
              "      <td>126</td>\n",
              "      <td>128</td>\n",
              "      <td>131</td>\n",
              "      <td>132</td>\n",
              "      <td>133</td>\n",
              "      <td>134</td>\n",
              "      <td>135</td>\n",
              "      <td>135</td>\n",
              "      <td>136</td>\n",
              "      <td>138</td>\n",
              "      <td>137</td>\n",
              "      <td>137</td>\n",
              "      <td>138</td>\n",
              "      <td>138</td>\n",
              "      <td>139</td>\n",
              "      <td>137</td>\n",
              "      <td>142</td>\n",
              "      <td>140</td>\n",
              "      <td>138</td>\n",
              "      <td>139</td>\n",
              "      <td>137</td>\n",
              "      <td>137</td>\n",
              "      <td>136</td>\n",
              "      <td>135</td>\n",
              "      <td>134</td>\n",
              "      <td>133</td>\n",
              "      <td>134</td>\n",
              "      <td>132</td>\n",
              "      <td>129</td>\n",
              "      <td>132</td>\n",
              "      <td>134</td>\n",
              "      <td>135</td>\n",
              "      <td>135</td>\n",
              "      <td>137</td>\n",
              "      <td>139</td>\n",
              "      <td>139</td>\n",
              "      <td>139</td>\n",
              "      <td>140</td>\n",
              "      <td>141</td>\n",
              "      <td>...</td>\n",
              "      <td>114</td>\n",
              "      <td>112</td>\n",
              "      <td>89</td>\n",
              "      <td>48</td>\n",
              "      <td>133</td>\n",
              "      <td>194</td>\n",
              "      <td>182</td>\n",
              "      <td>185</td>\n",
              "      <td>184</td>\n",
              "      <td>184</td>\n",
              "      <td>182</td>\n",
              "      <td>181</td>\n",
              "      <td>172</td>\n",
              "      <td>174</td>\n",
              "      <td>177</td>\n",
              "      <td>178</td>\n",
              "      <td>178</td>\n",
              "      <td>179</td>\n",
              "      <td>181</td>\n",
              "      <td>183</td>\n",
              "      <td>187</td>\n",
              "      <td>175</td>\n",
              "      <td>165</td>\n",
              "      <td>154</td>\n",
              "      <td>118</td>\n",
              "      <td>107</td>\n",
              "      <td>100</td>\n",
              "      <td>75</td>\n",
              "      <td>96</td>\n",
              "      <td>83</td>\n",
              "      <td>47</td>\n",
              "      <td>104</td>\n",
              "      <td>194</td>\n",
              "      <td>183</td>\n",
              "      <td>186</td>\n",
              "      <td>184</td>\n",
              "      <td>184</td>\n",
              "      <td>184</td>\n",
              "      <td>182</td>\n",
              "      <td>180</td>\n",
              "    </tr>\n",
              "    <tr>\n",
              "      <th>2</th>\n",
              "      <td>10</td>\n",
              "      <td>85</td>\n",
              "      <td>88</td>\n",
              "      <td>92</td>\n",
              "      <td>96</td>\n",
              "      <td>105</td>\n",
              "      <td>123</td>\n",
              "      <td>135</td>\n",
              "      <td>143</td>\n",
              "      <td>147</td>\n",
              "      <td>152</td>\n",
              "      <td>157</td>\n",
              "      <td>163</td>\n",
              "      <td>168</td>\n",
              "      <td>171</td>\n",
              "      <td>182</td>\n",
              "      <td>172</td>\n",
              "      <td>175</td>\n",
              "      <td>185</td>\n",
              "      <td>183</td>\n",
              "      <td>184</td>\n",
              "      <td>185</td>\n",
              "      <td>185</td>\n",
              "      <td>185</td>\n",
              "      <td>183</td>\n",
              "      <td>183</td>\n",
              "      <td>182</td>\n",
              "      <td>181</td>\n",
              "      <td>178</td>\n",
              "      <td>86</td>\n",
              "      <td>88</td>\n",
              "      <td>93</td>\n",
              "      <td>96</td>\n",
              "      <td>108</td>\n",
              "      <td>125</td>\n",
              "      <td>137</td>\n",
              "      <td>145</td>\n",
              "      <td>149</td>\n",
              "      <td>154</td>\n",
              "      <td>160</td>\n",
              "      <td>...</td>\n",
              "      <td>145</td>\n",
              "      <td>123</td>\n",
              "      <td>78</td>\n",
              "      <td>162</td>\n",
              "      <td>239</td>\n",
              "      <td>227</td>\n",
              "      <td>229</td>\n",
              "      <td>226</td>\n",
              "      <td>226</td>\n",
              "      <td>225</td>\n",
              "      <td>224</td>\n",
              "      <td>222</td>\n",
              "      <td>89</td>\n",
              "      <td>91</td>\n",
              "      <td>94</td>\n",
              "      <td>111</td>\n",
              "      <td>136</td>\n",
              "      <td>154</td>\n",
              "      <td>167</td>\n",
              "      <td>184</td>\n",
              "      <td>125</td>\n",
              "      <td>3</td>\n",
              "      <td>166</td>\n",
              "      <td>225</td>\n",
              "      <td>195</td>\n",
              "      <td>188</td>\n",
              "      <td>172</td>\n",
              "      <td>185</td>\n",
              "      <td>161</td>\n",
              "      <td>122</td>\n",
              "      <td>68</td>\n",
              "      <td>166</td>\n",
              "      <td>242</td>\n",
              "      <td>227</td>\n",
              "      <td>230</td>\n",
              "      <td>227</td>\n",
              "      <td>226</td>\n",
              "      <td>225</td>\n",
              "      <td>224</td>\n",
              "      <td>222</td>\n",
              "    </tr>\n",
              "  </tbody>\n",
              "</table>\n",
              "<p>3 rows × 785 columns</p>\n",
              "</div>"
            ],
            "text/plain": [
              "   label  pixel1  pixel2  pixel3  ...  pixel781  pixel782  pixel783  pixel784\n",
              "0      6     149     149     150  ...       106       112       120       107\n",
              "1      5     126     128     131  ...       184       184       182       180\n",
              "2     10      85      88      92  ...       226       225       224       222\n",
              "\n",
              "[3 rows x 785 columns]"
            ]
          },
          "metadata": {
            "tags": []
          },
          "execution_count": 12
        }
      ]
    },
    {
      "cell_type": "markdown",
      "metadata": {
        "id": "KtDZ7fVWaNsK"
      },
      "source": [
        "# Creating a word dictionary with indices"
      ]
    },
    {
      "cell_type": "code",
      "metadata": {
        "colab": {
          "base_uri": "https://localhost:8080/"
        },
        "id": "MyhtaXNpPCW0",
        "outputId": "df936740-d131-4c5c-b56f-b30ff59cc600"
      },
      "source": [
        "L=[]\r\n",
        "for i in range(65,91):\r\n",
        "  if i==90:\r\n",
        "    continue\r\n",
        "  else:\r\n",
        "    c=chr(i)\r\n",
        "    L.append(c) \r\n",
        "print(L)"
      ],
      "execution_count": 13,
      "outputs": [
        {
          "output_type": "stream",
          "text": [
            "['A', 'B', 'C', 'D', 'E', 'F', 'G', 'H', 'I', 'J', 'K', 'L', 'M', 'N', 'O', 'P', 'Q', 'R', 'S', 'T', 'U', 'V', 'W', 'X', 'Y']\n"
          ],
          "name": "stdout"
        }
      ]
    },
    {
      "cell_type": "code",
      "metadata": {
        "id": "K__g1vhSspJD",
        "colab": {
          "base_uri": "https://localhost:8080/"
        },
        "outputId": "f61428f6-ec25-4845-d23b-1d60c54ab3fc"
      },
      "source": [
        "word_dict={}\r\n",
        "for i in list(range(25)):\r\n",
        "  word_dict[i]=L[i]\r\n",
        "print(word_dict)"
      ],
      "execution_count": 14,
      "outputs": [
        {
          "output_type": "stream",
          "text": [
            "{0: 'A', 1: 'B', 2: 'C', 3: 'D', 4: 'E', 5: 'F', 6: 'G', 7: 'H', 8: 'I', 9: 'J', 10: 'K', 11: 'L', 12: 'M', 13: 'N', 14: 'O', 15: 'P', 16: 'Q', 17: 'R', 18: 'S', 19: 'T', 20: 'U', 21: 'V', 22: 'W', 23: 'X', 24: 'Y'}\n"
          ],
          "name": "stdout"
        }
      ]
    },
    {
      "cell_type": "markdown",
      "metadata": {
        "id": "q8sg9xfmaWGw"
      },
      "source": [
        "# Plotting the data"
      ]
    },
    {
      "cell_type": "code",
      "metadata": {
        "id": "z-0gwgiEuwTG"
      },
      "source": [
        "X_train=train_data.drop(labels = [\"label\"],axis = 1) \r\n",
        "Y_train=train_data['label']"
      ],
      "execution_count": 39,
      "outputs": []
    },
    {
      "cell_type": "code",
      "metadata": {
        "id": "sTk9cp9TW6dA"
      },
      "source": [
        "labels=list(train_data['label'].value_counts().index)"
      ],
      "execution_count": 40,
      "outputs": []
    },
    {
      "cell_type": "code",
      "metadata": {
        "id": "6JBvQNUOW_pt"
      },
      "source": [
        "l=[]\r\n",
        "for i in labels:\r\n",
        "  for j,k in enumerate(train_data['label']):\r\n",
        "    if k==i:\r\n",
        "      l.append(j)\r\n",
        "      break"
      ],
      "execution_count": 41,
      "outputs": []
    },
    {
      "cell_type": "code",
      "metadata": {
        "id": "VtiLOQIFv40Z",
        "colab": {
          "base_uri": "https://localhost:8080/",
          "height": 589
        },
        "outputId": "565beddd-1e8a-4086-b098-94e2dd24f49c"
      },
      "source": [
        "import matplotlib.pyplot as plt\r\n",
        "\r\n",
        "x_train1=X_train.values.reshape(-1,28,28)\r\n",
        "plt.figure(figsize=(10,10))\r\n",
        "n=1\r\n",
        "for i in l:\r\n",
        "  plt.subplot(5,5,n)\r\n",
        "  plt.xticks([])\r\n",
        "  plt.yticks([])\r\n",
        "  plt.grid(True)\r\n",
        "  plt.imshow(x_train1[i],cmap=plt.get_cmap('gray'))\r\n",
        "  plt.xlabel(word_dict[y_train[i]])\r\n",
        "  n=n+1\r\n",
        "plt.show()  "
      ],
      "execution_count": 43,
      "outputs": [
        {
          "output_type": "display_data",
          "data": {
            "image/png": "[encoded data removed]",
            "text/plain": [
              "<Figure size 720x720 with 24 Axes>"
            ]
          },
          "metadata": {
            "tags": []
          }
        }
      ]
    },
    {
      "cell_type": "markdown",
      "metadata": {
        "id": "VGpNfGb7a5eC"
      },
      "source": [
        "# Data Preprocessing"
      ]
    },
    {
      "cell_type": "code",
      "metadata": {
        "id": "G1H5SBjPv9ZW"
      },
      "source": [
        "our_train = train_data.append(test_data)"
      ],
      "execution_count": 44,
      "outputs": []
    },
    {
      "cell_type": "code",
      "metadata": {
        "colab": {
          "base_uri": "https://localhost:8080/"
        },
        "id": "uE17cM6LwZU0",
        "outputId": "20bd919f-4052-4d93-e726-ae42276b3dd5"
      },
      "source": [
        "our_train.shape"
      ],
      "execution_count": 45,
      "outputs": [
        {
          "output_type": "execute_result",
          "data": {
            "text/plain": [
              "(34627, 785)"
            ]
          },
          "metadata": {
            "tags": []
          },
          "execution_count": 45
        }
      ]
    },
    {
      "cell_type": "code",
      "metadata": {
        "id": "tBpJ0kKnwbVS"
      },
      "source": [
        "our_train_x = our_train.drop(labels = [\"label\"],axis = 1) "
      ],
      "execution_count": null,
      "outputs": []
    },
    {
      "cell_type": "code",
      "metadata": {
        "id": "Sdt0Ao9_wnDl"
      },
      "source": [
        "our_train_y=our_train['label']"
      ],
      "execution_count": null,
      "outputs": []
    },
    {
      "cell_type": "code",
      "metadata": {
        "id": "OI9ZrqQmwu39"
      },
      "source": [
        "from keras.utils.np_utils import to_categorical # convert to one-hot-encoding\r\n",
        "our_train_y = to_categorical(our_train_y, num_classes = 25)"
      ],
      "execution_count": null,
      "outputs": []
    },
    {
      "cell_type": "code",
      "metadata": {
        "id": "rg_YnlfzVpWk"
      },
      "source": [
        "our_train_y"
      ],
      "execution_count": null,
      "outputs": []
    },
    {
      "cell_type": "code",
      "metadata": {
        "id": "gwwrXxMqxE7i"
      },
      "source": [
        "#rescaling\r\n",
        "\r\n",
        "our_train_x=our_train_x/255"
      ],
      "execution_count": null,
      "outputs": []
    },
    {
      "cell_type": "code",
      "metadata": {
        "id": "TtDItfbzxPGA"
      },
      "source": [
        "our_train_x= our_train_x.values.reshape(-1,28,28,1)"
      ],
      "execution_count": null,
      "outputs": []
    },
    {
      "cell_type": "code",
      "metadata": {
        "id": "51Lf8vQ9xYIZ"
      },
      "source": [
        "from sklearn.model_selection import train_test_split\r\n",
        "\r\n",
        "x_train, x_val, y_train, y_val = train_test_split(our_train_x,our_train_y, test_size =0.4,shuffle=True)"
      ],
      "execution_count": null,
      "outputs": []
    },
    {
      "cell_type": "code",
      "metadata": {
        "colab": {
          "base_uri": "https://localhost:8080/"
        },
        "id": "wuv19xiNyaX2",
        "outputId": "a19106bc-25ce-4e4a-b4c0-c7cdd330db35"
      },
      "source": [
        "print(\"x_train shape\",x_train.shape)\r\n",
        "print(\"x_val shape\",x_val.shape)\r\n",
        "print(\"y_train shape\",y_train.shape)\r\n",
        "print(\"y_val shape\",y_val.shape)"
      ],
      "execution_count": null,
      "outputs": [
        {
          "output_type": "stream",
          "text": [
            "x_train shape (20776, 28, 28, 1)\n",
            "x_val shape (13851, 28, 28, 1)\n",
            "y_train shape (20776, 25)\n",
            "y_val shape (13851, 25)\n"
          ],
          "name": "stdout"
        }
      ]
    },
    {
      "cell_type": "markdown",
      "metadata": {
        "id": "6bbHXBltbGed"
      },
      "source": [
        "# Creating the model"
      ]
    },
    {
      "cell_type": "code",
      "metadata": {
        "id": "uBQNYSMExnKV"
      },
      "source": [
        "import warnings\r\n",
        "# filter warnings\r\n",
        "warnings.filterwarnings('ignore')\r\n",
        "import tensorflow as tf"
      ],
      "execution_count": null,
      "outputs": []
    },
    {
      "cell_type": "code",
      "metadata": {
        "id": "6H0nqtC3zlrd"
      },
      "source": [
        "from tensorflow.keras.models import Sequential\r\n",
        "from tensorflow.keras.layers import Conv2D, MaxPool2D,  BatchNormalization\r\n",
        "from tensorflow.keras.layers import  Dropout, Flatten, Dense"
      ],
      "execution_count": null,
      "outputs": []
    },
    {
      "cell_type": "code",
      "metadata": {
        "colab": {
          "base_uri": "https://localhost:8080/"
        },
        "id": "RqAaeDv0zof1",
        "outputId": "40ad3099-3157-4eb0-fb3f-e5f81c0b76bc"
      },
      "source": [
        "model = Sequential()\r\n",
        "\r\n",
        "#\r\n",
        "model.add(Conv2D(filters = 32, kernel_size = (5,5),activation ='relu', input_shape = (28,28,1)))\r\n",
        "model.add(BatchNormalization())\r\n",
        "model.add(MaxPool2D(pool_size=(2,2)))\r\n",
        "model.add(Dropout(0.5))\r\n",
        "#\r\n",
        "model.add(Conv2D(filters = 64, kernel_size = (3,3), \r\n",
        "                 activation ='relu'))\r\n",
        "model.add(BatchNormalization())\r\n",
        "model.add(MaxPool2D(pool_size=(2,2), strides=(2,2)))\r\n",
        "model.add(Dropout(0.5))\r\n",
        "#\r\n",
        "model.add(Conv2D(filters = 128, kernel_size = (3,3), \r\n",
        "                 activation ='relu'))\r\n",
        "model.add(BatchNormalization())\r\n",
        "model.add(MaxPool2D(pool_size=(2,2), strides=(2,2)))\r\n",
        "model.add(Dropout(0.5))\r\n",
        "# fully connected\r\n",
        "model.add(Flatten())\r\n",
        "model.add(Dense(1024, activation = \"relu\"))\r\n",
        "model.add(Dropout(0.25))\r\n",
        "model.add(Dense(25, activation = \"softmax\"))\r\n",
        "\r\n",
        "\r\n",
        "model.summary()"
      ],
      "execution_count": null,
      "outputs": [
        {
          "output_type": "stream",
          "text": [
            "Model: \"sequential_11\"\n",
            "_________________________________________________________________\n",
            "Layer (type)                 Output Shape              Param #   \n",
            "=================================================================\n",
            "conv2d_33 (Conv2D)           (None, 24, 24, 32)        832       \n",
            "_________________________________________________________________\n",
            "batch_normalization_33 (Batc (None, 24, 24, 32)        128       \n",
            "_________________________________________________________________\n",
            "max_pooling2d_33 (MaxPooling (None, 12, 12, 32)        0         \n",
            "_________________________________________________________________\n",
            "dropout_48 (Dropout)         (None, 12, 12, 32)        0         \n",
            "_________________________________________________________________\n",
            "conv2d_34 (Conv2D)           (None, 10, 10, 64)        18496     \n",
            "_________________________________________________________________\n",
            "batch_normalization_34 (Batc (None, 10, 10, 64)        256       \n",
            "_________________________________________________________________\n",
            "max_pooling2d_34 (MaxPooling (None, 5, 5, 64)          0         \n",
            "_________________________________________________________________\n",
            "dropout_49 (Dropout)         (None, 5, 5, 64)          0         \n",
            "_________________________________________________________________\n",
            "conv2d_35 (Conv2D)           (None, 3, 3, 128)         73856     \n",
            "_________________________________________________________________\n",
            "batch_normalization_35 (Batc (None, 3, 3, 128)         512       \n",
            "_________________________________________________________________\n",
            "max_pooling2d_35 (MaxPooling (None, 1, 1, 128)         0         \n",
            "_________________________________________________________________\n",
            "dropout_50 (Dropout)         (None, 1, 1, 128)         0         \n",
            "_________________________________________________________________\n",
            "flatten_11 (Flatten)         (None, 128)               0         \n",
            "_________________________________________________________________\n",
            "dense_28 (Dense)             (None, 1024)              132096    \n",
            "_________________________________________________________________\n",
            "dropout_51 (Dropout)         (None, 1024)              0         \n",
            "_________________________________________________________________\n",
            "dense_29 (Dense)             (None, 25)                25625     \n",
            "=================================================================\n",
            "Total params: 251,801\n",
            "Trainable params: 251,353\n",
            "Non-trainable params: 448\n",
            "_________________________________________________________________\n"
          ],
          "name": "stdout"
        }
      ]
    },
    {
      "cell_type": "code",
      "metadata": {
        "id": "qSSA2Hzuztfq"
      },
      "source": [
        "model.compile(optimizer = 'rmsprop' , loss = \"categorical_crossentropy\", metrics=[\"accuracy\"])"
      ],
      "execution_count": null,
      "outputs": []
    },
    {
      "cell_type": "code",
      "metadata": {
        "id": "h9KdAz1ezw6s"
      },
      "source": [
        "#from keras.callbacks import EarlyStopping\r\n",
        "#es1 = EarlyStopping(monitor='val_accuracy', patience=10, verbose=1,restore_best_weights=True)"
      ],
      "execution_count": null,
      "outputs": []
    },
    {
      "cell_type": "code",
      "metadata": {
        "id": "snWLrHtRz13A"
      },
      "source": [
        "epochs = 50 # for better result increase the epochs\r\n",
        "batch_size = 50"
      ],
      "execution_count": null,
      "outputs": []
    },
    {
      "cell_type": "code",
      "metadata": {
        "id": "k1V64dxBz4Kc"
      },
      "source": [
        "datagen = tf.keras.preprocessing.image.ImageDataGenerator(\r\n",
        "        zoom_range = 0.1, # Randomly zoom image 10%\r\n",
        "        width_shift_range=0.1,  # randomly shift images horizontally 10%\r\n",
        "        height_shift_range=0.1,  # randomly shift images vertically 10%\r\n",
        "        horizontal_flip=True,  # randomly flip images\r\n",
        "        )"
      ],
      "execution_count": null,
      "outputs": []
    },
    {
      "cell_type": "code",
      "metadata": {
        "id": "r9f-5MU3z_gq"
      },
      "source": [
        "datagen.fit(x_train)"
      ],
      "execution_count": null,
      "outputs": []
    },
    {
      "cell_type": "markdown",
      "metadata": {
        "id": "_vPpaF6HbdC6"
      },
      "source": [
        "# Trainning the model"
      ]
    },
    {
      "cell_type": "code",
      "metadata": {
        "colab": {
          "base_uri": "https://localhost:8080/"
        },
        "id": "ElhlnJTdD7f3",
        "outputId": "92eb8eb4-7386-46d7-cfc8-5447d529bc3b"
      },
      "source": [
        "# Fit the model\r\n",
        "history = model.fit_generator(datagen.flow(x_train,y_train, batch_size=batch_size),epochs = epochs, validation_data = (x_val,y_val), steps_per_epoch=x_train.shape[0] // batch_size,verbose=2)"
      ],
      "execution_count": null,
      "outputs": [
        {
          "output_type": "stream",
          "text": [
            "Epoch 1/50\n",
            "415/415 - 10s - loss: 2.4330 - accuracy: 0.2479 - val_loss: 6.0665 - val_accuracy: 0.1050\n",
            "Epoch 2/50\n",
            "415/415 - 8s - loss: 1.6376 - accuracy: 0.4533 - val_loss: 0.9580 - val_accuracy: 0.6640\n",
            "Epoch 3/50\n",
            "415/415 - 8s - loss: 1.3720 - accuracy: 0.5328 - val_loss: 0.9987 - val_accuracy: 0.6708\n",
            "Epoch 4/50\n",
            "415/415 - 9s - loss: 1.2072 - accuracy: 0.5905 - val_loss: 0.4987 - val_accuracy: 0.8285\n",
            "Epoch 5/50\n",
            "415/415 - 9s - loss: 1.1203 - accuracy: 0.6213 - val_loss: 0.8700 - val_accuracy: 0.6626\n",
            "Epoch 6/50\n",
            "415/415 - 9s - loss: 1.0351 - accuracy: 0.6535 - val_loss: 0.7075 - val_accuracy: 0.7592\n",
            "Epoch 7/50\n",
            "415/415 - 9s - loss: 0.9809 - accuracy: 0.6646 - val_loss: 0.7792 - val_accuracy: 0.7334\n",
            "Epoch 8/50\n",
            "415/415 - 9s - loss: 0.9187 - accuracy: 0.6894 - val_loss: 0.4334 - val_accuracy: 0.8477\n",
            "Epoch 9/50\n",
            "415/415 - 9s - loss: 0.8793 - accuracy: 0.7063 - val_loss: 0.4103 - val_accuracy: 0.8482\n",
            "Epoch 10/50\n",
            "415/415 - 9s - loss: 0.8506 - accuracy: 0.7113 - val_loss: 0.3240 - val_accuracy: 0.9052\n",
            "Epoch 11/50\n",
            "415/415 - 9s - loss: 0.8100 - accuracy: 0.7283 - val_loss: 0.3783 - val_accuracy: 0.8786\n",
            "Epoch 12/50\n",
            "415/415 - 9s - loss: 0.7786 - accuracy: 0.7407 - val_loss: 0.2245 - val_accuracy: 0.9342\n",
            "Epoch 13/50\n",
            "415/415 - 9s - loss: 0.7499 - accuracy: 0.7498 - val_loss: 0.2082 - val_accuracy: 0.9446\n",
            "Epoch 14/50\n",
            "415/415 - 9s - loss: 0.7278 - accuracy: 0.7582 - val_loss: 0.1872 - val_accuracy: 0.9465\n",
            "Epoch 15/50\n",
            "415/415 - 9s - loss: 0.7170 - accuracy: 0.7601 - val_loss: 0.1896 - val_accuracy: 0.9446\n",
            "Epoch 16/50\n",
            "415/415 - 9s - loss: 0.6893 - accuracy: 0.7682 - val_loss: 0.2793 - val_accuracy: 0.9112\n",
            "Epoch 17/50\n",
            "415/415 - 9s - loss: 0.6749 - accuracy: 0.7740 - val_loss: 0.2211 - val_accuracy: 0.9398\n",
            "Epoch 18/50\n",
            "415/415 - 9s - loss: 0.6496 - accuracy: 0.7832 - val_loss: 0.1407 - val_accuracy: 0.9765\n",
            "Epoch 19/50\n",
            "415/415 - 9s - loss: 0.6352 - accuracy: 0.7856 - val_loss: 0.1458 - val_accuracy: 0.9673\n",
            "Epoch 20/50\n",
            "415/415 - 9s - loss: 0.6387 - accuracy: 0.7869 - val_loss: 0.3082 - val_accuracy: 0.9095\n",
            "Epoch 21/50\n",
            "415/415 - 9s - loss: 0.6079 - accuracy: 0.7930 - val_loss: 0.1813 - val_accuracy: 0.9461\n",
            "Epoch 22/50\n",
            "415/415 - 9s - loss: 0.5798 - accuracy: 0.8060 - val_loss: 0.1652 - val_accuracy: 0.9495\n",
            "Epoch 23/50\n",
            "415/415 - 8s - loss: 0.5749 - accuracy: 0.8069 - val_loss: 0.2893 - val_accuracy: 0.9064\n",
            "Epoch 24/50\n",
            "415/415 - 8s - loss: 0.5646 - accuracy: 0.8121 - val_loss: 0.2685 - val_accuracy: 0.9091\n",
            "Epoch 25/50\n",
            "415/415 - 9s - loss: 0.5593 - accuracy: 0.8132 - val_loss: 0.1443 - val_accuracy: 0.9669\n",
            "Epoch 26/50\n",
            "415/415 - 9s - loss: 0.5461 - accuracy: 0.8166 - val_loss: 0.1467 - val_accuracy: 0.9720\n",
            "Epoch 27/50\n",
            "415/415 - 9s - loss: 0.5376 - accuracy: 0.8179 - val_loss: 0.2634 - val_accuracy: 0.9273\n",
            "Epoch 28/50\n",
            "415/415 - 9s - loss: 0.5369 - accuracy: 0.8204 - val_loss: 0.0963 - val_accuracy: 0.9791\n",
            "Epoch 29/50\n",
            "415/415 - 9s - loss: 0.5219 - accuracy: 0.8267 - val_loss: 0.1755 - val_accuracy: 0.9652\n",
            "Epoch 30/50\n",
            "415/415 - 9s - loss: 0.5337 - accuracy: 0.8244 - val_loss: 0.1232 - val_accuracy: 0.9845\n",
            "Epoch 31/50\n",
            "415/415 - 8s - loss: 0.5052 - accuracy: 0.8274 - val_loss: 0.2716 - val_accuracy: 0.9187\n",
            "Epoch 32/50\n",
            "415/415 - 9s - loss: 0.5115 - accuracy: 0.8311 - val_loss: 0.0873 - val_accuracy: 0.9858\n",
            "Epoch 33/50\n",
            "415/415 - 9s - loss: 0.5023 - accuracy: 0.8324 - val_loss: 0.0755 - val_accuracy: 0.9871\n",
            "Epoch 34/50\n",
            "415/415 - 9s - loss: 0.4871 - accuracy: 0.8388 - val_loss: 0.1251 - val_accuracy: 0.9711\n",
            "Epoch 35/50\n",
            "415/415 - 9s - loss: 0.4909 - accuracy: 0.8352 - val_loss: 0.1265 - val_accuracy: 0.9690\n",
            "Epoch 36/50\n",
            "415/415 - 9s - loss: 0.4884 - accuracy: 0.8375 - val_loss: 0.0647 - val_accuracy: 0.9913\n",
            "Epoch 37/50\n",
            "415/415 - 9s - loss: 0.4811 - accuracy: 0.8401 - val_loss: 0.0667 - val_accuracy: 0.9903\n",
            "Epoch 38/50\n",
            "415/415 - 9s - loss: 0.4589 - accuracy: 0.8485 - val_loss: 0.0672 - val_accuracy: 0.9868\n",
            "Epoch 39/50\n",
            "415/415 - 9s - loss: 0.4568 - accuracy: 0.8474 - val_loss: 0.0744 - val_accuracy: 0.9900\n",
            "Epoch 40/50\n",
            "415/415 - 9s - loss: 0.4586 - accuracy: 0.8487 - val_loss: 0.0744 - val_accuracy: 0.9856\n",
            "Epoch 41/50\n",
            "415/415 - 9s - loss: 0.4550 - accuracy: 0.8492 - val_loss: 0.1693 - val_accuracy: 0.9588\n",
            "Epoch 42/50\n",
            "415/415 - 9s - loss: 0.4483 - accuracy: 0.8493 - val_loss: 0.0518 - val_accuracy: 0.9932\n",
            "Epoch 43/50\n",
            "415/415 - 9s - loss: 0.4527 - accuracy: 0.8504 - val_loss: 0.1433 - val_accuracy: 0.9631\n",
            "Epoch 44/50\n",
            "415/415 - 9s - loss: 0.4396 - accuracy: 0.8543 - val_loss: 0.0602 - val_accuracy: 0.9864\n",
            "Epoch 45/50\n",
            "415/415 - 9s - loss: 0.4355 - accuracy: 0.8568 - val_loss: 0.0533 - val_accuracy: 0.9932\n",
            "Epoch 46/50\n",
            "415/415 - 9s - loss: 0.4456 - accuracy: 0.8510 - val_loss: 0.0737 - val_accuracy: 0.9871\n",
            "Epoch 47/50\n",
            "415/415 - 9s - loss: 0.4278 - accuracy: 0.8609 - val_loss: 0.0669 - val_accuracy: 0.9832\n",
            "Epoch 48/50\n",
            "415/415 - 9s - loss: 0.4258 - accuracy: 0.8614 - val_loss: 0.0558 - val_accuracy: 0.9932\n",
            "Epoch 49/50\n",
            "415/415 - 9s - loss: 0.4262 - accuracy: 0.8595 - val_loss: 0.1381 - val_accuracy: 0.9724\n",
            "Epoch 50/50\n",
            "415/415 - 9s - loss: 0.4276 - accuracy: 0.8596 - val_loss: 0.0648 - val_accuracy: 0.9846\n"
          ],
          "name": "stdout"
        }
      ]
    },
    {
      "cell_type": "markdown",
      "metadata": {
        "id": "FQkA-3mibiI3"
      },
      "source": [
        "# Saving the model"
      ]
    },
    {
      "cell_type": "code",
      "metadata": {
        "id": "EjDlUxU80LEM"
      },
      "source": [
        "model.save_weights('2first_try_MNISTsignlanguage.h5')"
      ],
      "execution_count": null,
      "outputs": []
    },
    {
      "cell_type": "code",
      "metadata": {
        "id": "caaAePxb3_9i"
      },
      "source": [
        "with open('2ASLmnist_model_architecture.json','w') as f:\r\n",
        "    f.write(model.to_json())"
      ],
      "execution_count": null,
      "outputs": []
    }
  ]
}